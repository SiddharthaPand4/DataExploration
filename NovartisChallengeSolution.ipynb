{
  "nbformat": 4,
  "nbformat_minor": 0,
  "metadata": {
    "colab": {
      "name": "NovartisChallengeSolution.ipynb",
      "provenance": [],
      "private_outputs": true,
      "collapsed_sections": [],
      "authorship_tag": "ABX9TyMxlf6BIq6cC/T14mLZ60Kl",
      "include_colab_link": true
    },
    "kernelspec": {
      "name": "python3",
      "display_name": "Python 3"
    },
    "accelerator": "GPU"
  },
  "cells": [
    {
      "cell_type": "markdown",
      "metadata": {
        "id": "view-in-github",
        "colab_type": "text"
      },
      "source": [
        "<a href=\"https://colab.research.google.com/github/SiddharthaPand4/DataExploration/blob/master/NovartisChallengeSolution.ipynb\" target=\"_parent\"><img src=\"https://colab.research.google.com/assets/colab-badge.svg\" alt=\"Open In Colab\"/></a>"
      ]
    },
    {
      "cell_type": "code",
      "metadata": {
        "id": "euNIjl0f6h3G",
        "colab_type": "code",
        "colab": {}
      },
      "source": [
        "import pandas as pd\n",
        "import numpy as np\n",
        "import tensorflow as tf\n",
        "from tensorflow import keras\n",
        "\n",
        "import os\n",
        "import zipfile\n",
        "\n",
        "import sklearn\n",
        "from sklearn.metrics import confusion_matrix\n",
        "from sklearn import tree"
      ],
      "execution_count": null,
      "outputs": []
    },
    {
      "cell_type": "code",
      "metadata": {
        "id": "clC5Ap858nIc",
        "colab_type": "code",
        "colab": {}
      },
      "source": [
        "DATA_ZIP_DIR = \"/tmp/dataset.zip\"\n",
        "DATASET_DIR = \"/tmp/\""
      ],
      "execution_count": null,
      "outputs": []
    },
    {
      "cell_type": "code",
      "metadata": {
        "id": "la_Q-zWd9Ent",
        "colab_type": "code",
        "colab": {}
      },
      "source": [
        "with zipfile.ZipFile(DATA_ZIP_DIR, 'r') as zip_ref:\n",
        "    zip_ref.extractall(DATASET_DIR)"
      ],
      "execution_count": null,
      "outputs": []
    },
    {
      "cell_type": "code",
      "metadata": {
        "id": "kRRi0nDo9QC1",
        "colab_type": "code",
        "colab": {}
      },
      "source": [
        "TRAIN_DIR_PATH = \"/tmp/Dataset/Train.csv\"\n",
        "TEST_DIR_PATH = \"/tmp/Dataset/Test.csv\""
      ],
      "execution_count": null,
      "outputs": []
    },
    {
      "cell_type": "code",
      "metadata": {
        "id": "kXzX56x_9lrG",
        "colab_type": "code",
        "colab": {}
      },
      "source": [
        "data = pd.read_csv(TRAIN_DIR_PATH)\n",
        "data.sample(frac=1)\n",
        "test_data = pd.read_csv(TEST_DIR_PATH)"
      ],
      "execution_count": null,
      "outputs": []
    },
    {
      "cell_type": "code",
      "metadata": {
        "id": "veM-YN7H9-VB",
        "colab_type": "code",
        "colab": {}
      },
      "source": [
        "data.head()"
      ],
      "execution_count": null,
      "outputs": []
    },
    {
      "cell_type": "code",
      "metadata": {
        "id": "6OmE2RRp-EGJ",
        "colab_type": "code",
        "colab": {}
      },
      "source": [
        "test_data.head()"
      ],
      "execution_count": null,
      "outputs": []
    },
    {
      "cell_type": "code",
      "metadata": {
        "id": "ik73GkrSANnj",
        "colab_type": "code",
        "colab": {}
      },
      "source": [
        "data.describe()"
      ],
      "execution_count": null,
      "outputs": []
    },
    {
      "cell_type": "code",
      "metadata": {
        "id": "9uPCWQnk-GV0",
        "colab_type": "code",
        "colab": {}
      },
      "source": [
        "print(data.isnull().sum())\n",
        "print(test_data.isnull().sum())"
      ],
      "execution_count": null,
      "outputs": []
    },
    {
      "cell_type": "code",
      "metadata": {
        "id": "ZqaSQIdiADwB",
        "colab_type": "code",
        "colab": {}
      },
      "source": [
        "data.X_12.value_counts()\n",
        "test_data.X_12.value_counts()"
      ],
      "execution_count": null,
      "outputs": []
    },
    {
      "cell_type": "code",
      "metadata": {
        "id": "2j5wDLLS-94d",
        "colab_type": "code",
        "colab": {}
      },
      "source": [
        "data.X_12.fillna(value=9999, inplace=True)\n",
        "test_data.X_12.fillna(value=9999, inplace=True)"
      ],
      "execution_count": null,
      "outputs": []
    },
    {
      "cell_type": "code",
      "metadata": {
        "id": "uYitygXaAZD8",
        "colab_type": "code",
        "colab": {}
      },
      "source": [
        "for i in range(1, 16):\n",
        "    intersection = len(list(set(data[\"X_{}\".format(i)].unique())  & set(test_data[\"X_{}\".format(i)].unique())))\n",
        "    data_len = len(data[\"X_{}\".format(i)].unique())\n",
        "    test_len = len(test_data[\"X_{}\".format(i)].unique())\n",
        "    print(intersection)\n",
        "    print(data_len)\n",
        "    print(test_len)\n",
        "    print()"
      ],
      "execution_count": null,
      "outputs": []
    },
    {
      "cell_type": "code",
      "metadata": {
        "id": "6rBe4sneCqbA",
        "colab_type": "code",
        "colab": {}
      },
      "source": [
        "def remove_faltu_features(df):\n",
        "    df1 = df.copy()\n",
        "    df1.pop(\"INCIDENT_ID\")\n",
        "    df1.pop(\"DATE\")\n",
        "    return df1"
      ],
      "execution_count": null,
      "outputs": []
    },
    {
      "cell_type": "code",
      "metadata": {
        "id": "VVvMp4EYA6Uj",
        "colab_type": "code",
        "colab": {}
      },
      "source": [
        "def preprocess_data(df, is_train=True):\n",
        "    y = None\n",
        "    if is_train:\n",
        "        y = np.array(df.pop(\"MULTIPLE_OFFENSE\"))\n",
        "    features = np.array(remove_faltu_features(df))\n",
        "    return features, y"
      ],
      "execution_count": null,
      "outputs": []
    },
    {
      "cell_type": "code",
      "metadata": {
        "id": "K6OwzCa9CssO",
        "colab_type": "code",
        "colab": {}
      },
      "source": [
        "features, y = preprocess_data(data)\n",
        "test_features, _ = preprocess_data(test_data, is_train=False)\n",
        "\n",
        "print(features.shape)\n",
        "print(test_features.shape)\n",
        "print(y.shape)"
      ],
      "execution_count": null,
      "outputs": []
    },
    {
      "cell_type": "code",
      "metadata": {
        "id": "JRSVryvGri6r",
        "colab_type": "code",
        "colab": {}
      },
      "source": [
        "split_ratio = .8\n",
        "\n",
        "def split_data(features, labels):\n",
        "    train_size = int(features.shape[0] * split_ratio)\n",
        "    X_train = features[:train_size]\n",
        "    X_val = features[train_size:]\n",
        "    y_train = labels[:train_size]\n",
        "    y_val = labels[train_size:]\n",
        "    return X_train, y_train, X_val, y_val"
      ],
      "execution_count": null,
      "outputs": []
    },
    {
      "cell_type": "code",
      "metadata": {
        "id": "ETKz2m4YrkTd",
        "colab_type": "code",
        "colab": {}
      },
      "source": [
        "X_train, y_train, X_val, y_val = split_data(features, y)\n",
        "\n",
        "print(X_train.shape)\n",
        "print(y_train.shape)\n",
        "print(X_val.shape)\n",
        "print(y_val.shape)"
      ],
      "execution_count": null,
      "outputs": []
    },
    {
      "cell_type": "code",
      "metadata": {
        "id": "PCwJKXylo3pV",
        "colab_type": "code",
        "colab": {}
      },
      "source": [
        "METRICS = [\n",
        "      keras.metrics.TruePositives(name='tp'),\n",
        "      keras.metrics.FalsePositives(name='fp'),\n",
        "      keras.metrics.TrueNegatives(name='tn'),\n",
        "      keras.metrics.FalseNegatives(name='fn'), \n",
        "      keras.metrics.BinaryAccuracy(name='accuracy'),\n",
        "      keras.metrics.Precision(name='precision'),\n",
        "      keras.metrics.Recall(name='recall'),\n",
        "      keras.metrics.AUC(name='auc'),\n",
        "]\n",
        "\n",
        "def make_model(metrics = METRICS, output_bias=None):\n",
        "  if output_bias is not None:\n",
        "    output_bias = tf.keras.initializers.Constant(output_bias)\n",
        "  model = keras.Sequential([\n",
        "      keras.layers.Dense(\n",
        "          1024, activation='relu',\n",
        "          input_shape=(X_train.shape[-1],)),\n",
        "      keras.layers.Dropout(0.5),\n",
        "      keras.layers.Dense(128, activation='relu'),\n",
        "      keras.layers.Dropout(0.5),\n",
        "      keras.layers.Dense(1, activation='sigmoid',\n",
        "                         bias_initializer=output_bias),\n",
        "  ])\n",
        "\n",
        "  model.compile(\n",
        "      optimizer=keras.optimizers.Adam(lr=1e-3),\n",
        "      loss=keras.losses.BinaryCrossentropy(),\n",
        "      metrics=metrics)\n",
        "\n",
        "  return model"
      ],
      "execution_count": null,
      "outputs": []
    },
    {
      "cell_type": "code",
      "metadata": {
        "id": "Rwjclf7ozA12",
        "colab_type": "code",
        "colab": {}
      },
      "source": [
        "model = make_model()\n",
        "model.summary()"
      ],
      "execution_count": null,
      "outputs": []
    },
    {
      "cell_type": "code",
      "metadata": {
        "id": "pxhbjng9x_uO",
        "colab_type": "code",
        "colab": {}
      },
      "source": [
        "model.fit(x=X_train, y=y_train, batch_size=2048, epochs=700, validation_data=(X_val, y_val), verbose=1)"
      ],
      "execution_count": null,
      "outputs": []
    },
    {
      "cell_type": "code",
      "metadata": {
        "id": "vHrrgw6hy_PX",
        "colab_type": "code",
        "colab": {}
      },
      "source": [
        "preds = model.predict(test_features)"
      ],
      "execution_count": null,
      "outputs": []
    },
    {
      "cell_type": "code",
      "metadata": {
        "id": "E4PfIdiAbTVu",
        "colab_type": "code",
        "colab": {}
      },
      "source": [
        "preds.shape"
      ],
      "execution_count": null,
      "outputs": []
    },
    {
      "cell_type": "code",
      "metadata": {
        "id": "JOMe1LWsbUu5",
        "colab_type": "code",
        "colab": {}
      },
      "source": [
        "predictions = (preds > 0.5).astype('int64')\n",
        "predictions = np.squeeze(predictions)\n",
        "print(predictions.shape)"
      ],
      "execution_count": null,
      "outputs": []
    },
    {
      "cell_type": "code",
      "metadata": {
        "id": "jndIRW-xccv4",
        "colab_type": "code",
        "colab": {}
      },
      "source": [
        "test_csv = pd.read_csv(TEST_DIR_PATH)\n",
        "IDs = np.array(test_csv.pop('INCIDENT_ID'))\n",
        "IDs.shape"
      ],
      "execution_count": null,
      "outputs": []
    },
    {
      "cell_type": "code",
      "metadata": {
        "id": "yFW6V-Ukc1rB",
        "colab_type": "code",
        "colab": {}
      },
      "source": [
        "output = pd.DataFrame({'INCIDENT_ID': IDs, 'MULTIPLE_OFFENSE': predictions})"
      ],
      "execution_count": null,
      "outputs": []
    },
    {
      "cell_type": "code",
      "metadata": {
        "id": "VtYk67sDd2nW",
        "colab_type": "code",
        "colab": {}
      },
      "source": [
        "output.to_csv('/tmp/my_submission.csv', index=False)"
      ],
      "execution_count": null,
      "outputs": []
    },
    {
      "cell_type": "code",
      "metadata": {
        "id": "3oj4iHWljGhr",
        "colab_type": "code",
        "colab": {}
      },
      "source": [
        ""
      ],
      "execution_count": null,
      "outputs": []
    }
  ]
}